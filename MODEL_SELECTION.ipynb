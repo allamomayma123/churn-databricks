{
 "cells": [
  {
   "cell_type": "markdown",
   "metadata": {
    "application/vnd.databricks.v1+cell": {
     "cellMetadata": {
      "byteLimit": 2048000,
      "rowLimit": 10000
     },
     "inputWidgets": {},
     "nuid": "2d3becee-d269-4aff-88b3-a9a2ef6c4df3",
     "showTitle": false,
     "title": ""
    }
   },
   "source": [
    "Install and Import Needed Libraries"
   ]
  },
  {
   "cell_type": "code",
   "execution_count": 0,
   "metadata": {
    "application/vnd.databricks.v1+cell": {
     "cellMetadata": {
      "byteLimit": 2048000,
      "rowLimit": 10000
     },
     "inputWidgets": {},
     "nuid": "a51359ea-b9ee-4211-b0c6-0a13818dc5e6",
     "showTitle": false,
     "title": ""
    }
   },
   "outputs": [],
   "source": [
    "%pip install xgboost"
   ]
  },
  {
   "cell_type": "code",
   "execution_count": 0,
   "metadata": {
    "application/vnd.databricks.v1+cell": {
     "cellMetadata": {
      "byteLimit": 2048000,
      "rowLimit": 10000
     },
     "inputWidgets": {},
     "nuid": "910ad6cc-5501-4b18-96b9-b633bbb997c2",
     "showTitle": false,
     "title": ""
    }
   },
   "outputs": [],
   "source": [
    "%pip install mlflow"
   ]
  },
  {
   "cell_type": "code",
   "execution_count": 0,
   "metadata": {
    "application/vnd.databricks.v1+cell": {
     "cellMetadata": {
      "byteLimit": 2048000,
      "rowLimit": 10000
     },
     "inputWidgets": {},
     "nuid": "86e34075-7f27-42bb-9215-59611bce5828",
     "showTitle": false,
     "title": ""
    }
   },
   "outputs": [],
   "source": [
    "from sklearn.preprocessing import OneHotEncoder, StandardScaler\n",
    "from sklearn.impute import SimpleImputer\n",
    "from sklearn.compose import ColumnTransformer\n",
    "from sklearn.pipeline import Pipeline\n",
    " \n",
    "from xgboost import XGBClassifier\n",
    " \n",
    "from sklearn.experimental import enable_hist_gradient_boosting \n",
    "from sklearn.ensemble import HistGradientBoostingClassifier\n",
    " \n",
    "from sklearn.ensemble import RandomForestClassifier\n",
    "from sklearn.neural_network import MLPClassifier\n",
    "from sklearn.linear_model import LogisticRegression\n",
    "from sklearn.ensemble import VotingClassifier\n",
    " \n",
    "from sklearn.metrics import accuracy_score, confusion_matrix, roc_curve, roc_auc_score, log_loss, precision_recall_curve, auc, average_precision_score\n",
    "from sklearn.utils.class_weight import compute_class_weight, compute_sample_weight\n",
    " \n",
    "import matplotlib.pyplot as plt\n",
    "import mlflow\n",
    "import pandas as pd\n",
    "import numpy as np"
   ]
  },
  {
   "cell_type": "markdown",
   "metadata": {
    "application/vnd.databricks.v1+cell": {
     "cellMetadata": {
      "byteLimit": 2048000,
      "rowLimit": 10000
     },
     "inputWidgets": {},
     "nuid": "9def43c6-ea8e-47c7-ad64-d2be73f59dc2",
     "showTitle": false,
     "title": ""
    }
   },
   "source": [
    "Set up mlflow experiment in the user's personal workspace folder"
   ]
  },
  {
   "cell_type": "code",
   "execution_count": 0,
   "metadata": {
    "application/vnd.databricks.v1+cell": {
     "cellMetadata": {
      "byteLimit": 2048000,
      "rowLimit": 10000
     },
     "inputWidgets": {},
     "nuid": "b3643978-5d7c-430f-baba-d7a9e82ecc61",
     "showTitle": false,
     "title": ""
    }
   },
   "outputs": [],
   "source": [
    "from sklearn.model_selection import train_test_split, GridSearchCV, cross_val_score"
   ]
  },
  {
   "cell_type": "markdown",
   "metadata": {
    "application/vnd.databricks.v1+cell": {
     "cellMetadata": {
      "byteLimit": 2048000,
      "rowLimit": 10000
     },
     "inputWidgets": {},
     "nuid": "cdd1638c-60ca-4582-8644-23d327d48329",
     "showTitle": false,
     "title": ""
    }
   },
   "source": [
    "Set up mlflow experiment in the user's personal workspace folder"
   ]
  },
  {
   "cell_type": "code",
   "execution_count": 0,
   "metadata": {
    "application/vnd.databricks.v1+cell": {
     "cellMetadata": {
      "byteLimit": 2048000,
      "rowLimit": 10000
     },
     "inputWidgets": {},
     "nuid": "cd73ee97-c854-42ec-acb1-55b97ff587e1",
     "showTitle": false,
     "title": ""
    }
   },
   "outputs": [],
   "source": [
    "useremail = dbutils.notebook.entry_point.getDbutils().notebook().getContext().userName().get()\n",
    "experiment_name = f\"/Users/{useremail}/churn\"\n",
    "mlflow.set_experiment(experiment_name) "
   ]
  },
  {
   "cell_type": "markdown",
   "metadata": {
    "application/vnd.databricks.v1+cell": {
     "cellMetadata": {
      "byteLimit": 2048000,
      "rowLimit": 10000
     },
     "inputWidgets": {},
     "nuid": "4d0e5fdf-446c-40b3-87da-59a64bd101ff",
     "showTitle": false,
     "title": ""
    }
   },
   "source": [
    "Data Preparation based on EDA\n"
   ]
  },
  {
   "cell_type": "code",
   "execution_count": 0,
   "metadata": {
    "application/vnd.databricks.v1+cell": {
     "cellMetadata": {
      "byteLimit": 2048000,
      "rowLimit": 10000
     },
     "inputWidgets": {},
     "nuid": "13b6be55-45f2-4dbe-a4e9-190e25706814",
     "showTitle": false,
     "title": ""
    }
   },
   "outputs": [],
   "source": [
    "def datapreparation(df):\n",
    "    # Define the new column names\n",
    "    new_column_names = [\n",
    "        \"customerID\", \"gender\", \"SeniorCitizen\", \"Partner\", \"Dependents\",\n",
    "        \"tenure\", \"PhoneService\", \"MultipleLines\", \"InternetService\", \n",
    "        \"OnlineSecurity\", \"OnlineBackup\", \"DeviceProtection\", \"TechSupport\",\n",
    "        \"StreamingTV\", \"StreamingMovies\", \"Contract\", \"PaperlessBilling\",\n",
    "        \"PaymentMethod\", \"MonthlyCharges\", \"TotalCharges\", \"Churn\"\n",
    "    ]\n",
    "\n",
    "    # Rename the columns\n",
    "    df.columns = new_column_names\n",
    "\n",
    "    # Drop the first row\n",
    "    df = df.drop(index=0)\n",
    "    df.drop([\"customerID\"], inplace=True, axis=1)\n",
    "    \n",
    "    df.TotalCharges = df.TotalCharges.replace(\" \", np.nan)\n",
    "    df.TotalCharges.fillna(0, inplace=True)\n",
    "    df.TotalCharges = df.TotalCharges.astype(float)\n",
    "    \n",
    "    cols1 = ['Partner', 'Dependents', 'PaperlessBilling', 'Churn', 'PhoneService']\n",
    "    for col in cols1:\n",
    "        df[col] = df[col].apply(lambda x: 0 if x == \"No\" else 1)\n",
    "    \n",
    "    df.gender = df.gender.apply(lambda x: 0 if x == \"Male\" else 1)\n",
    "    df.MultipleLines = df.MultipleLines.map({'No phone service': 0, 'No': 0, 'Yes': 1})\n",
    "    \n",
    "    cols2 = ['OnlineSecurity', 'OnlineBackup', 'DeviceProtection', 'TechSupport', 'StreamingTV', 'StreamingMovies']\n",
    "    for col in cols2:\n",
    "        df[col] = df[col].map({'No internet service': 0, 'No': 0, 'Yes': 1})\n",
    "    \n",
    "    df = pd.get_dummies(df, columns=['InternetService', 'Contract', 'PaymentMethod'], drop_first=True)\n",
    "    \n",
    "    return df\n"
   ]
  },
  {
   "cell_type": "markdown",
   "metadata": {
    "application/vnd.databricks.v1+cell": {
     "cellMetadata": {
      "byteLimit": 2048000,
      "rowLimit": 10000
     },
     "inputWidgets": {},
     "nuid": "4eddc0bc-9bb9-45f0-8185-aa99bd79dd2c",
     "showTitle": false,
     "title": ""
    }
   },
   "source": [
    "Import Dataframe"
   ]
  },
  {
   "cell_type": "code",
   "execution_count": 0,
   "metadata": {
    "application/vnd.databricks.v1+cell": {
     "cellMetadata": {
      "byteLimit": 2048000,
      "rowLimit": 10000
     },
     "inputWidgets": {},
     "nuid": "2342212e-7097-41ef-a06a-9eed41b75481",
     "showTitle": false,
     "title": ""
    }
   },
   "outputs": [],
   "source": [
    "# Create a Spark DataFrame from the table\n",
    "df_spark = spark.read.table(\"WA_Fn_UseC__Telco_Customer_Churn_csv\")\n",
    "\n",
    "# Convert the Spark DataFrame to a Pandas DataFrame\n",
    "df = df_spark.toPandas()\n",
    "\n",
    "df = datapreparation(df)\n",
    "\n",
    "# Display the DataFrame\n",
    "df"
   ]
  },
  {
   "cell_type": "markdown",
   "metadata": {
    "application/vnd.databricks.v1+cell": {
     "cellMetadata": {
      "byteLimit": 2048000,
      "rowLimit": 10000
     },
     "inputWidgets": {},
     "nuid": "59a08f7c-7305-42b5-991c-f45614d3bfb9",
     "showTitle": false,
     "title": ""
    }
   },
   "source": [
    "Some Feature engineering"
   ]
  },
  {
   "cell_type": "code",
   "execution_count": 0,
   "metadata": {
    "application/vnd.databricks.v1+cell": {
     "cellMetadata": {
      "byteLimit": 2048000,
      "rowLimit": 10000
     },
     "inputWidgets": {},
     "nuid": "d7c73df2-08c4-40be-9214-4d5e2d897167",
     "showTitle": false,
     "title": ""
    }
   },
   "outputs": [],
   "source": [
    "# Ensure that SeniorCitizen, tenure, and MonthlyCharges are numeric\n",
    "df['SeniorCitizen'] = pd.to_numeric(df['SeniorCitizen'], errors='coerce')\n",
    "df['tenure'] = pd.to_numeric(df['tenure'], errors='coerce')\n",
    "df['MonthlyCharges'] = pd.to_numeric(df['MonthlyCharges'], errors='coerce')\n",
    "\n",
    "X = df.drop('Churn', axis=1)\n",
    "y = df['Churn']\n",
    "\n",
    "X_train, X_test, y_train, y_test = train_test_split(X, y, test_size=0.2, random_state=42)\n",
    "\n",
    "# Ensure all columns in X_train and X_test are numeric\n",
    "X_train = X_train.apply(pd.to_numeric, errors='coerce')\n",
    "X_test = X_test.apply(pd.to_numeric, errors='coerce')\n",
    "\n",
    "# Check the data types\n",
    "print(X_train.dtypes)\n",
    "print(X_test.dtypes)"
   ]
  },
  {
   "cell_type": "markdown",
   "metadata": {
    "application/vnd.databricks.v1+cell": {
     "cellMetadata": {
      "byteLimit": 2048000,
      "rowLimit": 10000
     },
     "inputWidgets": {},
     "nuid": "a886f3cc-fab1-446e-b83f-b8821105d5aa",
     "showTitle": false,
     "title": ""
    }
   },
   "source": [
    "Logistic Regression"
   ]
  },
  {
   "cell_type": "code",
   "execution_count": 0,
   "metadata": {
    "application/vnd.databricks.v1+cell": {
     "cellMetadata": {
      "byteLimit": 2048000,
      "rowLimit": 10000
     },
     "inputWidgets": {},
     "nuid": "921232d9-f7d8-4bf7-ad8c-45720dba1f97",
     "showTitle": false,
     "title": ""
    }
   },
   "outputs": [],
   "source": [
    "# train the model\n",
    "lreg_model = LogisticRegression(max_iter=10000, class_weight='balanced')\n",
    "lreg_model.fit(X_train, y_train)\n",
    " \n",
    "# predict\n",
    "lreg_y_prob = lreg_model.predict_proba(X_test)\n",
    " \n",
    "# evaluate\n",
    "lreg_ap = average_precision_score(y_test, lreg_y_prob[:,1])"
   ]
  },
  {
   "cell_type": "markdown",
   "metadata": {
    "application/vnd.databricks.v1+cell": {
     "cellMetadata": {
      "byteLimit": 2048000,
      "rowLimit": 10000
     },
     "inputWidgets": {},
     "nuid": "5479691c-7caf-464f-8bf5-cfca52589f11",
     "showTitle": false,
     "title": ""
    }
   },
   "source": [
    "Extreme Gradient Boosted Tree (XGBoost)"
   ]
  },
  {
   "cell_type": "code",
   "execution_count": 0,
   "metadata": {
    "application/vnd.databricks.v1+cell": {
     "cellMetadata": {
      "byteLimit": 2048000,
      "rowLimit": 10000
     },
     "inputWidgets": {},
     "nuid": "add63100-3180-4dd9-8a63-c91b8f88c073",
     "showTitle": false,
     "title": ""
    }
   },
   "outputs": [],
   "source": [
    "# Ensure that SeniorCitizen, tenure, and MonthlyCharges are numeric\n",
    "df['SeniorCitizen'] = pd.to_numeric(df['SeniorCitizen'], errors='coerce')\n",
    "df['tenure'] = pd.to_numeric(df['tenure'], errors='coerce')\n",
    "df['MonthlyCharges'] = pd.to_numeric(df['MonthlyCharges'], errors='coerce')\n",
    "\n",
    "X = df.drop('Churn', axis=1)\n",
    "y = df['Churn']\n",
    "\n",
    "X_train, X_test, y_train, y_test = train_test_split(X, y, test_size=0.2, random_state=42)\n",
    "\n",
    "# Ensure all columns in X_train and X_test are numeric\n",
    "X_train = X_train.apply(pd.to_numeric, errors='coerce')\n",
    "X_test = X_test.apply(pd.to_numeric, errors='coerce')\n",
    "\n",
    "# Check the data types\n",
    "print(X_train.dtypes)\n",
    "print(X_test.dtypes)\n",
    "\n"
   ]
  },
  {
   "cell_type": "markdown",
   "metadata": {
    "application/vnd.databricks.v1+cell": {
     "cellMetadata": {
      "byteLimit": 2048000,
      "rowLimit": 10000
     },
     "inputWidgets": {},
     "nuid": "28c15ea9-5c9a-43a7-9fda-62feda988efa",
     "showTitle": false,
     "title": ""
    }
   },
   "source": [
    "Define weights for the XGBoost model "
   ]
  },
  {
   "cell_type": "code",
   "execution_count": 0,
   "metadata": {
    "application/vnd.databricks.v1+cell": {
     "cellMetadata": {
      "byteLimit": 2048000,
      "rowLimit": 10000
     },
     "inputWidgets": {},
     "nuid": "791b1768-135c-4553-b0c9-3d407f6e6652",
     "showTitle": false,
     "title": ""
    }
   },
   "outputs": [],
   "source": [
    "weights = compute_class_weight(\n",
    "  'balanced', \n",
    "  classes=np.unique(y_train), \n",
    "  y=y_train\n",
    "  )\n",
    " \n",
    "weights"
   ]
  },
  {
   "cell_type": "markdown",
   "metadata": {
    "application/vnd.databricks.v1+cell": {
     "cellMetadata": {
      "byteLimit": 2048000,
      "rowLimit": 10000
     },
     "inputWidgets": {},
     "nuid": "690d8c10-dd51-43e9-92c2-ea9628d0321e",
     "showTitle": false,
     "title": ""
    }
   },
   "source": [
    "Extreme Gradient Boosted Tree (XGBoost)"
   ]
  },
  {
   "cell_type": "code",
   "execution_count": 0,
   "metadata": {
    "application/vnd.databricks.v1+cell": {
     "cellMetadata": {
      "byteLimit": 2048000,
      "rowLimit": 10000
     },
     "inputWidgets": {},
     "nuid": "f1d80792-07cf-4bdb-a8cd-a282507219a2",
     "showTitle": false,
     "title": ""
    }
   },
   "outputs": [],
   "source": [
    "# normalize class weights so that positive class reflects a 1.0 weight on negative class\n",
    "scale = weights[1]/weights[0]\n",
    " \n",
    "# train the model\n",
    "xgb_model = XGBClassifier(scale_pos_weight=scale) # similar to class_weights arg but applies to positive class only\n",
    "xgb_model.fit(X_train, y_train)\n",
    " \n",
    "# predict\n",
    "xgb_y_prob = xgb_model.predict_proba(X_test)\n",
    " \n",
    "# evaluate\n",
    "xgb_ap = average_precision_score(y_test, xgb_y_prob[:,1])"
   ]
  },
  {
   "cell_type": "markdown",
   "metadata": {
    "application/vnd.databricks.v1+cell": {
     "cellMetadata": {
      "byteLimit": 2048000,
      "rowLimit": 10000
     },
     "inputWidgets": {},
     "nuid": "25c3ace6-968e-40ae-8e09-624649f6a830",
     "showTitle": false,
     "title": ""
    }
   },
   "source": [
    "Neural Network"
   ]
  },
  {
   "cell_type": "code",
   "execution_count": 0,
   "metadata": {
    "application/vnd.databricks.v1+cell": {
     "cellMetadata": {
      "byteLimit": 2048000,
      "rowLimit": 10000
     },
     "inputWidgets": {},
     "nuid": "134fdc7c-1069-4778-9a1b-a24d594ca6f4",
     "showTitle": false,
     "title": ""
    }
   },
   "outputs": [],
   "source": [
    "# train the model\n",
    "mlp_model = MLPClassifier(activation='relu', max_iter=1000)  # does not support class weighting\n",
    "mlp_model.fit(X_train, y_train)\n",
    " \n",
    "# predict\n",
    "mlp_y_prob = mlp_model.predict_proba(X_test)\n",
    " \n",
    "# evaluate\n",
    "mlp_ap = average_precision_score(y_test, mlp_y_prob[:,1])"
   ]
  },
  {
   "cell_type": "markdown",
   "metadata": {
    "application/vnd.databricks.v1+cell": {
     "cellMetadata": {
      "byteLimit": 2048000,
      "rowLimit": 10000
     },
     "inputWidgets": {},
     "nuid": "cdd71bd0-6359-4ab2-ba95-461509da6b75",
     "showTitle": false,
     "title": ""
    }
   },
   "source": [
    "Compare Model Results"
   ]
  },
  {
   "cell_type": "code",
   "execution_count": 0,
   "metadata": {
    "application/vnd.databricks.v1+cell": {
     "cellMetadata": {
      "byteLimit": 2048000,
      "rowLimit": 10000
     },
     "inputWidgets": {},
     "nuid": "7aa45572-de7c-43bb-b484-0bf268199a2b",
     "showTitle": false,
     "title": ""
    }
   },
   "outputs": [],
   "source": [
    "print('Logistic Regression AP:\\t\\t{0:.6f}'.format(lreg_ap))\n",
    "# print('RandomForest Classifier AP:\\t{0:.6f}'.format(rfc_ap))\n",
    "print('XGBoost Classifier AP:\\t\\t{0:.6f}'.format(xgb_ap))\n",
    "print('MLP (Neural Network) AP:\\t{0:.6f}'.format(mlp_ap))"
   ]
  },
  {
   "cell_type": "markdown",
   "metadata": {
    "application/vnd.databricks.v1+cell": {
     "cellMetadata": {
      "byteLimit": 2048000,
      "rowLimit": 10000
     },
     "inputWidgets": {},
     "nuid": "b4b9f5fe-763c-484a-9829-8c723f599d7b",
     "showTitle": false,
     "title": ""
    }
   },
   "source": [
    "Hist Gradient Boost Classifier"
   ]
  },
  {
   "cell_type": "code",
   "execution_count": 0,
   "metadata": {
    "application/vnd.databricks.v1+cell": {
     "cellMetadata": {
      "byteLimit": 2048000,
      "rowLimit": 10000
     },
     "inputWidgets": {},
     "nuid": "6af1df71-9d74-417b-8759-3f66eb63282f",
     "showTitle": false,
     "title": ""
    }
   },
   "outputs": [],
   "source": [
    "# compute sample weights (functionally equivalent to class weights when done in this manner)\n",
    "sample_weights = compute_sample_weight(\n",
    "  'balanced', \n",
    "  y=y_train\n",
    "  )\n",
    " \n",
    "# train the model\n",
    "hgb_model = HistGradientBoostingClassifier(loss='binary_crossentropy', max_iter=1000)\n",
    "hgb_model.fit(X_train, y_train, sample_weight=sample_weights)  # weighting applied to individual samples\n",
    " \n",
    "# predict\n",
    "hgb_y_prob = hgb_model.predict_proba(X_test)\n",
    " \n",
    "# evaluate\n",
    "hgb_ap = average_precision_score(y_test, hgb_y_prob[:,1])\n",
    "print('HistGB Classifier AP:\\t{0:.6f}'.format(hgb_ap))"
   ]
  },
  {
   "cell_type": "markdown",
   "metadata": {
    "application/vnd.databricks.v1+cell": {
     "cellMetadata": {
      "byteLimit": 2048000,
      "rowLimit": 10000
     },
     "inputWidgets": {},
     "nuid": "d35bf320-4e9e-4b3b-97aa-92019fd4c0cb",
     "showTitle": false,
     "title": ""
    }
   },
   "source": [
    "Voting Ensemble"
   ]
  },
  {
   "cell_type": "code",
   "execution_count": 0,
   "metadata": {
    "application/vnd.databricks.v1+cell": {
     "cellMetadata": {
      "byteLimit": 2048000,
      "rowLimit": 10000
     },
     "inputWidgets": {},
     "nuid": "8f769402-c166-4e88-9751-592a16517e5e",
     "showTitle": false,
     "title": ""
    }
   },
   "outputs": [
    {
     "output_type": "display_data",
     "data": {
      "text/plain": [
       "\u001B[0;31m---------------------------------------------------------------------------\u001B[0m\n",
       "\u001B[0;31mNameError\u001B[0m                                 Traceback (most recent call last)\n",
       "File \u001B[0;32m<command-2884970239900466>:2\u001B[0m\n",
       "\u001B[1;32m      1\u001B[0m \u001B[38;5;66;03m# train the model\u001B[39;00m\n",
       "\u001B[0;32m----> 2\u001B[0m vote_model \u001B[38;5;241m=\u001B[39m VotingClassifier(\n",
       "\u001B[1;32m      3\u001B[0m   estimators\u001B[38;5;241m=\u001B[39m[\n",
       "\u001B[1;32m      4\u001B[0m     (\u001B[38;5;124m'\u001B[39m\u001B[38;5;124mhgb\u001B[39m\u001B[38;5;124m'\u001B[39m, HistGradientBoostingClassifier(loss\u001B[38;5;241m=\u001B[39m\u001B[38;5;124m'\u001B[39m\u001B[38;5;124mbinary_crossentropy\u001B[39m\u001B[38;5;124m'\u001B[39m, max_iter\u001B[38;5;241m=\u001B[39m\u001B[38;5;241m1000\u001B[39m)), \n",
       "\u001B[1;32m      5\u001B[0m     (\u001B[38;5;124m'\u001B[39m\u001B[38;5;124mxgb\u001B[39m\u001B[38;5;124m'\u001B[39m, XGBClassifier()),\n",
       "\u001B[1;32m      6\u001B[0m     (\u001B[38;5;124m'\u001B[39m\u001B[38;5;124mmlp\u001B[39m\u001B[38;5;124m'\u001B[39m, MLPClassifier(activation\u001B[38;5;241m=\u001B[39m\u001B[38;5;124m'\u001B[39m\u001B[38;5;124mrelu\u001B[39m\u001B[38;5;124m'\u001B[39m, max_iter\u001B[38;5;241m=\u001B[39m\u001B[38;5;241m1000\u001B[39m))\n",
       "\u001B[1;32m      7\u001B[0m     ],\n",
       "\u001B[1;32m      8\u001B[0m   voting\u001B[38;5;241m=\u001B[39m\u001B[38;5;124m'\u001B[39m\u001B[38;5;124msoft\u001B[39m\u001B[38;5;124m'\u001B[39m\n",
       "\u001B[1;32m      9\u001B[0m   )\n",
       "\u001B[1;32m     10\u001B[0m vote_model\u001B[38;5;241m.\u001B[39mfit(X_train, y_train)\n",
       "\u001B[1;32m     12\u001B[0m \u001B[38;5;66;03m# predict\u001B[39;00m\n",
       "\n",
       "\u001B[0;31mNameError\u001B[0m: name 'VotingClassifier' is not defined"
      ]
     },
     "metadata": {
      "application/vnd.databricks.v1+output": {
       "arguments": {},
       "data": "\u001B[0;31m---------------------------------------------------------------------------\u001B[0m\n\u001B[0;31mNameError\u001B[0m                                 Traceback (most recent call last)\nFile \u001B[0;32m<command-2884970239900466>:2\u001B[0m\n\u001B[1;32m      1\u001B[0m \u001B[38;5;66;03m# train the model\u001B[39;00m\n\u001B[0;32m----> 2\u001B[0m vote_model \u001B[38;5;241m=\u001B[39m VotingClassifier(\n\u001B[1;32m      3\u001B[0m   estimators\u001B[38;5;241m=\u001B[39m[\n\u001B[1;32m      4\u001B[0m     (\u001B[38;5;124m'\u001B[39m\u001B[38;5;124mhgb\u001B[39m\u001B[38;5;124m'\u001B[39m, HistGradientBoostingClassifier(loss\u001B[38;5;241m=\u001B[39m\u001B[38;5;124m'\u001B[39m\u001B[38;5;124mbinary_crossentropy\u001B[39m\u001B[38;5;124m'\u001B[39m, max_iter\u001B[38;5;241m=\u001B[39m\u001B[38;5;241m1000\u001B[39m)), \n\u001B[1;32m      5\u001B[0m     (\u001B[38;5;124m'\u001B[39m\u001B[38;5;124mxgb\u001B[39m\u001B[38;5;124m'\u001B[39m, XGBClassifier()),\n\u001B[1;32m      6\u001B[0m     (\u001B[38;5;124m'\u001B[39m\u001B[38;5;124mmlp\u001B[39m\u001B[38;5;124m'\u001B[39m, MLPClassifier(activation\u001B[38;5;241m=\u001B[39m\u001B[38;5;124m'\u001B[39m\u001B[38;5;124mrelu\u001B[39m\u001B[38;5;124m'\u001B[39m, max_iter\u001B[38;5;241m=\u001B[39m\u001B[38;5;241m1000\u001B[39m))\n\u001B[1;32m      7\u001B[0m     ],\n\u001B[1;32m      8\u001B[0m   voting\u001B[38;5;241m=\u001B[39m\u001B[38;5;124m'\u001B[39m\u001B[38;5;124msoft\u001B[39m\u001B[38;5;124m'\u001B[39m\n\u001B[1;32m      9\u001B[0m   )\n\u001B[1;32m     10\u001B[0m vote_model\u001B[38;5;241m.\u001B[39mfit(X_train, y_train)\n\u001B[1;32m     12\u001B[0m \u001B[38;5;66;03m# predict\u001B[39;00m\n\n\u001B[0;31mNameError\u001B[0m: name 'VotingClassifier' is not defined",
       "errorSummary": "<span class='ansi-red-fg'>NameError</span>: name 'VotingClassifier' is not defined",
       "errorTraceType": "ansi",
       "metadata": {},
       "type": "ipynbError"
      }
     },
     "output_type": "display_data"
    }
   ],
   "source": [
    "# train the model\n",
    "vote_model = VotingClassifier(\n",
    "  estimators=[\n",
    "    ('hgb', HistGradientBoostingClassifier(loss='binary_crossentropy', max_iter=1000)), \n",
    "    ('xgb', XGBClassifier()),\n",
    "    ('mlp', MLPClassifier(activation='relu', max_iter=1000))\n",
    "    ],\n",
    "  voting='soft'\n",
    "  )\n",
    "vote_model.fit(X_train, y_train)\n",
    " \n",
    "# predict\n",
    "vote_y_prob = vote_model.predict_proba(X_test)\n",
    "\n",
    "# evaluate\n",
    "vote_ap = average_precision_score(y_test, vote_y_prob[:,1])\n",
    "print('Voting AP:\\t{0:.6f}'.format(vote_ap))"
   ]
  },
  {
   "cell_type": "code",
   "execution_count": 0,
   "metadata": {
    "application/vnd.databricks.v1+cell": {
     "cellMetadata": {},
     "inputWidgets": {},
     "nuid": "bdd63c1a-3832-4e90-b507-cd95add681c7",
     "showTitle": false,
     "title": ""
    }
   },
   "outputs": [],
   "source": []
  }
 ],
 "metadata": {
  "application/vnd.databricks.v1+notebook": {
   "dashboards": [],
   "environmentMetadata": null,
   "language": "python",
   "notebookMetadata": {
    "pythonIndentUnit": 4
   },
   "notebookName": "MODEL_SELECTION",
   "widgets": {}
  }
 },
 "nbformat": 4,
 "nbformat_minor": 0
}
